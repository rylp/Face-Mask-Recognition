{
  "nbformat": 4,
  "nbformat_minor": 0,
  "metadata": {
    "colab": {
      "name": "v5_Mask_Detector.ipynb",
      "provenance": [],
      "collapsed_sections": []
    },
    "kernelspec": {
      "name": "python3",
      "display_name": "Python 3"
    },
    "accelerator": "GPU"
  },
  "cells": [
    {
      "cell_type": "code",
      "metadata": {
        "id": "EZAcf5zK6TNV",
        "colab_type": "code",
        "colab": {}
      },
      "source": [
        "%matplotlib inline\n",
        "\n",
        "import pandas as pd\n",
        "import numpy as np\n",
        "import matplotlib\n",
        "import matplotlib.pyplot as plt\n",
        "import seaborn as sns\n",
        "import os\n",
        "import zipfile as zf\n",
        "import imutils\n",
        "import cv2\n",
        "import dlib\n",
        "import random\n",
        "import tensorflow as tf\n",
        "\n",
        "from tensorflow.keras.layers import Dense,Conv2D,MaxPool2D,AveragePooling2D,Flatten,Dropout,Activation\n",
        "from tensorflow.keras.models import Sequential\n",
        "from tensorflow.keras.optimizers import SGD,Adam,RMSprop\n",
        "from tensorflow.keras.layers import BatchNormalization\n",
        "from tensorflow.keras.preprocessing.image import ImageDataGenerator\n",
        "from tensorflow.keras.models import model_from_json\n",
        "from tensorflow.keras.models import Model\n",
        "from tensorflow.keras.utils import to_categorical\n",
        "#from tensorflow.keras.preprocessing.image import ImageDataGenerator\n",
        "from tensorflow.keras.applications import MobileNetV2\n",
        "\n",
        "from sklearn.utils import shuffle\n",
        "from sklearn.metrics import classification_report,confusion_matrix\n",
        "from sklearn import metrics\n",
        "from sklearn.model_selection import train_test_split\n",
        "from sklearn.preprocessing import LabelBinarizer,LabelEncoder\n",
        "\n",
        "from imutils import build_montages\n",
        "from google.colab.patches import cv2_imshow\n",
        "\n",
        "sns.set()"
      ],
      "execution_count": 0,
      "outputs": []
    },
    {
      "cell_type": "code",
      "metadata": {
        "id": "26ZiPDdXIJyo",
        "colab_type": "code",
        "colab": {}
      },
      "source": [
        "filepath_prototxt = '/content/deploy.prototxt.txt'\n",
        "filepath_model = '/content/res10_300x300_ssd_iter_140000.caffemodel'"
      ],
      "execution_count": 0,
      "outputs": []
    },
    {
      "cell_type": "code",
      "metadata": {
        "id": "BQYEQe1-IQ6i",
        "colab_type": "code",
        "outputId": "6e97837e-e258-4e50-9b0d-04533c31a542",
        "colab": {
          "base_uri": "https://localhost:8080/",
          "height": 34
        }
      },
      "source": [
        "os.getcwd()"
      ],
      "execution_count": 45,
      "outputs": [
        {
          "output_type": "execute_result",
          "data": {
            "text/plain": [
              "'/content'"
            ]
          },
          "metadata": {
            "tags": []
          },
          "execution_count": 45
        }
      ]
    },
    {
      "cell_type": "code",
      "metadata": {
        "id": "nIev4K4rIVqR",
        "colab_type": "code",
        "colab": {}
      },
      "source": [
        "handle_test=zf.ZipFile(r'/content/test.zip')\n",
        "handle_test.extractall('/content/Testing')\n",
        "handle_test.close()\n",
        "\n",
        "\n",
        "handle_train=zf.ZipFile(r'/content/train.zip')\n",
        "handle_train.extractall('/content/Training')\n",
        "handle_train.close()\n",
        "\n"
      ],
      "execution_count": 0,
      "outputs": []
    },
    {
      "cell_type": "code",
      "metadata": {
        "id": "wloiwpOBIekJ",
        "colab_type": "code",
        "colab": {}
      },
      "source": [
        "train_mask = os.listdir('/content/Training/train/train_with_mask/')\n",
        "train_nomask = os.listdir('/content/Training/train/train_without_mask/')\n",
        "\n",
        "test_mask = os.listdir('/content/Testing/test/test_with_mask/')\n",
        "test_nomask = os.listdir('/content/Testing/test/test_without_mask/')\n"
      ],
      "execution_count": 0,
      "outputs": []
    },
    {
      "cell_type": "code",
      "metadata": {
        "id": "E9fC1UEkIem1",
        "colab_type": "code",
        "colab": {}
      },
      "source": [
        "filepath_train_mask = '/content/Training/train/train_with_mask/'\n",
        "filepath_train_nomask = '/content/Training/train/train_without_mask/'\n",
        "\n",
        "filepath_test_mask = '/content/Testing/test/test_with_mask/'\n",
        "filepath_test_nomask = '/content/Testing/test/test_without_mask/'\n"
      ],
      "execution_count": 0,
      "outputs": []
    },
    {
      "cell_type": "code",
      "metadata": {
        "id": "SihCIVZxKqXD",
        "colab_type": "code",
        "colab": {}
      },
      "source": [
        "train_images = []\n",
        "test_images = []\n",
        "outputs = []\n",
        "\n",
        "labels=[]\n",
        "test_labels=[]\n",
        "\n",
        "for i in train_mask:\n",
        "  image = cv2.imread(filepath_train_mask+i)\n",
        "  image = cv2.resize(image , (224,224))\n",
        "  train_images.append(image)\n",
        "  labels.append(1)\n",
        "\n",
        "for i in train_nomask:\n",
        "  image = cv2.imread(filepath_train_nomask+i)\n",
        "  image = cv2.resize(image , (224,224))\n",
        "  train_images.append(image)\n",
        "  labels.append(0)\n",
        "\n",
        "for i in test_mask:\n",
        "  image = cv2.imread(filepath_test_mask+i)\n",
        "  outputs.append(image)\n",
        "  image = cv2.resize(image , (224,224))\n",
        "  test_images.append(image)\n",
        "  test_labels.append(1)\n",
        "\n",
        "for i in test_nomask:\n",
        "  image = cv2.imread(filepath_test_nomask+i)\n",
        "  outputs.append(image)\n",
        "  image = cv2.resize(image , (224,224))\n",
        "  test_images.append(image)\n",
        "  test_labels.append(0)\n",
        "\n"
      ],
      "execution_count": 0,
      "outputs": []
    },
    {
      "cell_type": "code",
      "metadata": {
        "id": "LQ7NAjRrU19Y",
        "colab_type": "code",
        "outputId": "7c0f707f-9723-469e-f61a-52cf36f13d33",
        "colab": {
          "base_uri": "https://localhost:8080/",
          "height": 34
        }
      },
      "source": [
        "train_images[0].shape"
      ],
      "execution_count": 50,
      "outputs": [
        {
          "output_type": "execute_result",
          "data": {
            "text/plain": [
              "(224, 224, 3)"
            ]
          },
          "metadata": {
            "tags": []
          },
          "execution_count": 50
        }
      ]
    },
    {
      "cell_type": "code",
      "metadata": {
        "id": "1ar5GidbU4-G",
        "colab_type": "code",
        "outputId": "f0f9f534-e65d-458b-a70a-3fba7e09a74c",
        "colab": {
          "base_uri": "https://localhost:8080/",
          "height": 34
        }
      },
      "source": [
        "test_images[0].shape"
      ],
      "execution_count": 51,
      "outputs": [
        {
          "output_type": "execute_result",
          "data": {
            "text/plain": [
              "(224, 224, 3)"
            ]
          },
          "metadata": {
            "tags": []
          },
          "execution_count": 51
        }
      ]
    },
    {
      "cell_type": "code",
      "metadata": {
        "id": "zm0b9ukVVb66",
        "colab_type": "code",
        "colab": {}
      },
      "source": [
        "train_images = np.array(train_images , dtype=\"float\") / 255.0\n",
        "test_images = np.array(test_images , dtype=\"float\") / 255.0\n",
        "labels = np.array(labels)"
      ],
      "execution_count": 0,
      "outputs": []
    },
    {
      "cell_type": "code",
      "metadata": {
        "id": "MnMl2eoaV-6W",
        "colab_type": "code",
        "outputId": "f850a92d-6b8f-4999-c64c-60d28611b5b3",
        "colab": {
          "base_uri": "https://localhost:8080/",
          "height": 34
        }
      },
      "source": [
        "train_images.shape"
      ],
      "execution_count": 53,
      "outputs": [
        {
          "output_type": "execute_result",
          "data": {
            "text/plain": [
              "(1250, 224, 224, 3)"
            ]
          },
          "metadata": {
            "tags": []
          },
          "execution_count": 53
        }
      ]
    },
    {
      "cell_type": "code",
      "metadata": {
        "id": "o8NnKVygWAtI",
        "colab_type": "code",
        "outputId": "d715f253-0ec5-43eb-9bbb-388ea87d1457",
        "colab": {
          "base_uri": "https://localhost:8080/",
          "height": 34
        }
      },
      "source": [
        "test_images.shape"
      ],
      "execution_count": 54,
      "outputs": [
        {
          "output_type": "execute_result",
          "data": {
            "text/plain": [
              "(194, 224, 224, 3)"
            ]
          },
          "metadata": {
            "tags": []
          },
          "execution_count": 54
        }
      ]
    },
    {
      "cell_type": "code",
      "metadata": {
        "id": "ODuDx_Q8WCTK",
        "colab_type": "code",
        "colab": {}
      },
      "source": [
        "(trainX , testX , trainY , testY) = train_test_split(train_images , labels, train_size=0.80 , test_size=0.20 , random_state=42) "
      ],
      "execution_count": 0,
      "outputs": []
    },
    {
      "cell_type": "code",
      "metadata": {
        "id": "WfS5gokXXKzo",
        "colab_type": "code",
        "outputId": "2b07e172-e4fd-4f97-ed9e-1bc4389880ca",
        "colab": {
          "base_uri": "https://localhost:8080/",
          "height": 153
        }
      },
      "source": [
        "print(type(trainX))\n",
        "print(trainX.shape)\n",
        "print(type(trainY))\n",
        "print(trainY.shape)\n",
        "print(type(testX))\n",
        "print(testX.shape)\n",
        "print(type(testY))\n",
        "print(testY.shape)"
      ],
      "execution_count": 56,
      "outputs": [
        {
          "output_type": "stream",
          "text": [
            "<class 'numpy.ndarray'>\n",
            "(1000, 224, 224, 3)\n",
            "<class 'numpy.ndarray'>\n",
            "(1000,)\n",
            "<class 'numpy.ndarray'>\n",
            "(250, 224, 224, 3)\n",
            "<class 'numpy.ndarray'>\n",
            "(250,)\n"
          ],
          "name": "stdout"
        }
      ]
    },
    {
      "cell_type": "code",
      "metadata": {
        "id": "O48Xm37IkdAY",
        "colab_type": "code",
        "outputId": "1cb14148-ae22-4b33-a117-b47bd9aa7736",
        "colab": {
          "base_uri": "https://localhost:8080/",
          "height": 799
        }
      },
      "source": [
        "trainY"
      ],
      "execution_count": 57,
      "outputs": [
        {
          "output_type": "execute_result",
          "data": {
            "text/plain": [
              "array([0, 0, 1, 0, 0, 0, 0, 0, 0, 1, 0, 1, 0, 0, 1, 1, 0, 1, 0, 1, 0, 0,\n",
              "       0, 0, 0, 1, 1, 1, 1, 0, 0, 0, 0, 1, 0, 0, 1, 0, 1, 0, 1, 1, 0, 0,\n",
              "       0, 0, 1, 0, 1, 0, 0, 1, 1, 0, 1, 1, 1, 0, 1, 0, 0, 1, 0, 1, 1, 0,\n",
              "       1, 0, 0, 0, 0, 0, 0, 1, 0, 0, 0, 0, 1, 0, 0, 0, 1, 1, 1, 1, 0, 1,\n",
              "       1, 0, 0, 0, 0, 1, 1, 0, 0, 0, 0, 0, 0, 1, 0, 1, 0, 0, 1, 1, 0, 1,\n",
              "       0, 0, 0, 0, 0, 1, 0, 0, 0, 0, 1, 1, 1, 1, 1, 0, 0, 1, 1, 0, 0, 0,\n",
              "       0, 0, 0, 1, 0, 0, 1, 0, 0, 1, 1, 1, 1, 1, 1, 1, 1, 1, 0, 0, 0, 0,\n",
              "       0, 1, 1, 1, 0, 1, 1, 0, 1, 1, 0, 0, 1, 0, 0, 1, 1, 1, 1, 0, 1, 1,\n",
              "       1, 0, 1, 1, 1, 1, 0, 0, 0, 1, 1, 0, 0, 1, 1, 0, 0, 0, 0, 0, 0, 1,\n",
              "       1, 1, 0, 1, 0, 0, 1, 0, 0, 0, 0, 1, 1, 0, 1, 0, 0, 1, 0, 1, 0, 1,\n",
              "       1, 0, 0, 0, 0, 0, 1, 0, 1, 0, 1, 1, 1, 1, 1, 0, 0, 0, 1, 0, 0, 1,\n",
              "       1, 0, 0, 1, 0, 0, 1, 1, 1, 0, 0, 0, 1, 1, 0, 0, 1, 0, 0, 1, 0, 1,\n",
              "       1, 1, 0, 1, 1, 1, 1, 0, 0, 0, 0, 0, 0, 1, 0, 1, 1, 0, 0, 1, 0, 0,\n",
              "       1, 0, 1, 1, 0, 1, 0, 1, 1, 0, 0, 0, 1, 1, 1, 1, 1, 0, 1, 0, 0, 1,\n",
              "       0, 0, 0, 1, 1, 0, 1, 1, 0, 1, 1, 1, 0, 1, 1, 0, 1, 0, 1, 1, 0, 1,\n",
              "       0, 0, 1, 1, 0, 1, 1, 0, 1, 1, 0, 0, 0, 0, 1, 0, 0, 1, 1, 0, 0, 1,\n",
              "       0, 0, 0, 0, 0, 1, 0, 0, 0, 0, 1, 1, 1, 1, 0, 1, 1, 1, 0, 0, 0, 1,\n",
              "       0, 1, 0, 1, 0, 1, 0, 1, 1, 1, 1, 0, 1, 0, 0, 0, 1, 1, 1, 0, 1, 1,\n",
              "       0, 1, 0, 1, 1, 1, 1, 1, 0, 1, 0, 0, 1, 0, 0, 1, 0, 1, 1, 1, 1, 1,\n",
              "       1, 0, 0, 1, 0, 0, 1, 1, 0, 0, 1, 1, 0, 1, 0, 1, 1, 1, 1, 0, 0, 0,\n",
              "       1, 1, 1, 0, 1, 0, 0, 0, 1, 1, 1, 0, 0, 0, 0, 1, 0, 0, 1, 1, 1, 0,\n",
              "       1, 1, 1, 0, 1, 1, 0, 0, 0, 0, 1, 1, 0, 1, 0, 0, 1, 0, 0, 0, 0, 0,\n",
              "       1, 0, 0, 0, 1, 1, 0, 0, 0, 1, 1, 1, 1, 0, 0, 1, 0, 0, 1, 1, 0, 0,\n",
              "       1, 0, 0, 0, 1, 0, 0, 0, 1, 1, 0, 1, 1, 1, 1, 1, 1, 0, 1, 0, 1, 0,\n",
              "       0, 0, 0, 0, 1, 0, 1, 0, 1, 1, 0, 1, 0, 0, 0, 0, 0, 1, 1, 1, 0, 1,\n",
              "       0, 1, 1, 0, 0, 0, 0, 0, 1, 1, 0, 1, 1, 0, 0, 1, 0, 1, 0, 1, 0, 1,\n",
              "       1, 0, 1, 1, 0, 0, 1, 1, 0, 1, 1, 1, 1, 0, 1, 1, 0, 0, 0, 0, 1, 0,\n",
              "       0, 0, 0, 1, 0, 0, 1, 1, 0, 0, 1, 0, 0, 0, 1, 0, 0, 0, 1, 0, 1, 1,\n",
              "       0, 0, 0, 0, 1, 1, 0, 1, 1, 1, 0, 1, 1, 1, 0, 1, 0, 0, 0, 0, 0, 1,\n",
              "       1, 0, 1, 1, 1, 0, 1, 0, 0, 1, 0, 0, 0, 0, 1, 0, 1, 1, 0, 0, 1, 0,\n",
              "       0, 1, 1, 0, 1, 0, 0, 1, 0, 0, 1, 0, 0, 0, 1, 0, 0, 0, 1, 1, 1, 0,\n",
              "       0, 0, 0, 0, 0, 1, 1, 0, 0, 0, 1, 0, 0, 0, 0, 0, 1, 0, 0, 0, 1, 1,\n",
              "       1, 1, 0, 0, 0, 1, 1, 0, 0, 0, 1, 1, 1, 1, 0, 1, 0, 0, 0, 1, 1, 1,\n",
              "       1, 1, 0, 1, 1, 1, 1, 1, 1, 1, 0, 0, 0, 0, 1, 0, 0, 1, 0, 0, 0, 1,\n",
              "       1, 1, 0, 1, 0, 1, 1, 1, 0, 0, 0, 1, 1, 0, 0, 0, 0, 1, 0, 0, 1, 0,\n",
              "       0, 0, 1, 0, 0, 0, 0, 1, 0, 0, 0, 0, 0, 1, 0, 1, 0, 1, 1, 0, 1, 1,\n",
              "       1, 1, 0, 1, 0, 1, 1, 0, 0, 0, 0, 0, 1, 0, 1, 1, 1, 0, 0, 0, 1, 0,\n",
              "       1, 0, 1, 1, 0, 0, 0, 1, 1, 0, 1, 0, 0, 1, 0, 1, 1, 0, 1, 1, 1, 0,\n",
              "       1, 0, 0, 1, 0, 1, 0, 1, 1, 0, 0, 0, 1, 0, 0, 1, 0, 0, 0, 0, 0, 0,\n",
              "       0, 0, 0, 0, 1, 0, 1, 0, 1, 0, 1, 0, 0, 1, 1, 0, 1, 0, 0, 0, 0, 1,\n",
              "       1, 0, 0, 1, 0, 0, 0, 0, 0, 0, 0, 0, 1, 0, 1, 1, 0, 0, 0, 0, 1, 1,\n",
              "       0, 1, 0, 1, 1, 1, 1, 1, 1, 0, 0, 0, 1, 1, 1, 0, 1, 1, 1, 0, 1, 0,\n",
              "       0, 0, 1, 0, 1, 0, 1, 0, 1, 0, 1, 1, 0, 1, 0, 0, 1, 0, 0, 0, 1, 1,\n",
              "       0, 1, 0, 1, 0, 1, 0, 1, 1, 1, 0, 1, 1, 0, 1, 0, 0, 0, 1, 0, 0, 0,\n",
              "       1, 0, 0, 1, 0, 1, 0, 0, 1, 1, 1, 0, 1, 0, 0, 1, 0, 1, 0, 1, 0, 0,\n",
              "       1, 1, 0, 1, 1, 0, 0, 0, 0, 0])"
            ]
          },
          "metadata": {
            "tags": []
          },
          "execution_count": 57
        }
      ]
    },
    {
      "cell_type": "code",
      "metadata": {
        "id": "pU0MJr6VXPde",
        "colab_type": "code",
        "colab": {}
      },
      "source": [
        "trainY = to_categorical(trainY, num_classes=2)\n",
        "testY = to_categorical(testY, num_classes=2)"
      ],
      "execution_count": 0,
      "outputs": []
    },
    {
      "cell_type": "code",
      "metadata": {
        "id": "rIlaWJ5QlctQ",
        "colab_type": "code",
        "outputId": "39545c40-f979-4b0b-8881-59a2cba8b48b",
        "colab": {
          "base_uri": "https://localhost:8080/",
          "height": 136
        }
      },
      "source": [
        "trainY\n",
        "# 1 0 is nomask\n",
        "# 0 1 is mask"
      ],
      "execution_count": 59,
      "outputs": [
        {
          "output_type": "execute_result",
          "data": {
            "text/plain": [
              "array([[1., 0.],\n",
              "       [1., 0.],\n",
              "       [0., 1.],\n",
              "       ...,\n",
              "       [1., 0.],\n",
              "       [1., 0.],\n",
              "       [1., 0.]], dtype=float32)"
            ]
          },
          "metadata": {
            "tags": []
          },
          "execution_count": 59
        }
      ]
    },
    {
      "cell_type": "code",
      "metadata": {
        "id": "Y56uP2A3XYG3",
        "colab_type": "code",
        "outputId": "0ea2034d-0c84-46a1-a39a-c1edfb170a4b",
        "colab": {
          "base_uri": "https://localhost:8080/",
          "height": 54
        }
      },
      "source": [
        "aug=ImageDataGenerator(\n",
        "    rotation_range=20,\n",
        "    zoom_range=0.15,\n",
        "    width_shift_range=0.2,\n",
        "    height_shift_range=0.2,\n",
        "    shear_range=0.15,\n",
        "    horizontal_flip=True,\n",
        "    fill_mode=\"nearest\"\n",
        ")\n",
        "\n",
        "baseModel=MobileNetV2(weights=\"imagenet\",include_top=False,\n",
        "      input_tensor=tf.keras.layers.Input(shape=(224,224,3)))\n",
        "\n",
        "headModel = baseModel.output\n",
        "headModel = AveragePooling2D(pool_size=(7, 7))(headModel)\n",
        "headModel = Flatten(name=\"flatten\")(headModel)\n",
        "headModel = Dense(128, activation=\"relu\")(headModel)\n",
        "headModel = Dropout(0.5)(headModel)\n",
        "headModel = Dense(2, activation=\"softmax\")(headModel)\n",
        "model = Model(inputs=baseModel.input, outputs=headModel)\n",
        "\n",
        "for layer in baseModel.layers:\n",
        "\tlayer.trainable = False"
      ],
      "execution_count": 60,
      "outputs": [
        {
          "output_type": "stream",
          "text": [
            "WARNING:tensorflow:`input_shape` is undefined or non-square, or `rows` is not in [96, 128, 160, 192, 224]. Weights for input shape (224, 224) will be loaded as the default.\n"
          ],
          "name": "stdout"
        }
      ]
    },
    {
      "cell_type": "code",
      "metadata": {
        "id": "UF1TnIBwnIlj",
        "colab_type": "code",
        "outputId": "cd192ebf-a6fc-46d2-9145-37df9dc012cc",
        "colab": {
          "base_uri": "https://localhost:8080/",
          "height": 1000
        }
      },
      "source": [
        "model.summary()"
      ],
      "execution_count": 61,
      "outputs": [
        {
          "output_type": "stream",
          "text": [
            "Model: \"model_1\"\n",
            "__________________________________________________________________________________________________\n",
            "Layer (type)                    Output Shape         Param #     Connected to                     \n",
            "==================================================================================================\n",
            "input_2 (InputLayer)            [(None, 224, 224, 3) 0                                            \n",
            "__________________________________________________________________________________________________\n",
            "Conv1_pad (ZeroPadding2D)       (None, 225, 225, 3)  0           input_2[0][0]                    \n",
            "__________________________________________________________________________________________________\n",
            "Conv1 (Conv2D)                  (None, 112, 112, 32) 864         Conv1_pad[0][0]                  \n",
            "__________________________________________________________________________________________________\n",
            "bn_Conv1 (BatchNormalization)   (None, 112, 112, 32) 128         Conv1[0][0]                      \n",
            "__________________________________________________________________________________________________\n",
            "Conv1_relu (ReLU)               (None, 112, 112, 32) 0           bn_Conv1[0][0]                   \n",
            "__________________________________________________________________________________________________\n",
            "expanded_conv_depthwise (Depthw (None, 112, 112, 32) 288         Conv1_relu[0][0]                 \n",
            "__________________________________________________________________________________________________\n",
            "expanded_conv_depthwise_BN (Bat (None, 112, 112, 32) 128         expanded_conv_depthwise[0][0]    \n",
            "__________________________________________________________________________________________________\n",
            "expanded_conv_depthwise_relu (R (None, 112, 112, 32) 0           expanded_conv_depthwise_BN[0][0] \n",
            "__________________________________________________________________________________________________\n",
            "expanded_conv_project (Conv2D)  (None, 112, 112, 16) 512         expanded_conv_depthwise_relu[0][0\n",
            "__________________________________________________________________________________________________\n",
            "expanded_conv_project_BN (Batch (None, 112, 112, 16) 64          expanded_conv_project[0][0]      \n",
            "__________________________________________________________________________________________________\n",
            "block_1_expand (Conv2D)         (None, 112, 112, 96) 1536        expanded_conv_project_BN[0][0]   \n",
            "__________________________________________________________________________________________________\n",
            "block_1_expand_BN (BatchNormali (None, 112, 112, 96) 384         block_1_expand[0][0]             \n",
            "__________________________________________________________________________________________________\n",
            "block_1_expand_relu (ReLU)      (None, 112, 112, 96) 0           block_1_expand_BN[0][0]          \n",
            "__________________________________________________________________________________________________\n",
            "block_1_pad (ZeroPadding2D)     (None, 113, 113, 96) 0           block_1_expand_relu[0][0]        \n",
            "__________________________________________________________________________________________________\n",
            "block_1_depthwise (DepthwiseCon (None, 56, 56, 96)   864         block_1_pad[0][0]                \n",
            "__________________________________________________________________________________________________\n",
            "block_1_depthwise_BN (BatchNorm (None, 56, 56, 96)   384         block_1_depthwise[0][0]          \n",
            "__________________________________________________________________________________________________\n",
            "block_1_depthwise_relu (ReLU)   (None, 56, 56, 96)   0           block_1_depthwise_BN[0][0]       \n",
            "__________________________________________________________________________________________________\n",
            "block_1_project (Conv2D)        (None, 56, 56, 24)   2304        block_1_depthwise_relu[0][0]     \n",
            "__________________________________________________________________________________________________\n",
            "block_1_project_BN (BatchNormal (None, 56, 56, 24)   96          block_1_project[0][0]            \n",
            "__________________________________________________________________________________________________\n",
            "block_2_expand (Conv2D)         (None, 56, 56, 144)  3456        block_1_project_BN[0][0]         \n",
            "__________________________________________________________________________________________________\n",
            "block_2_expand_BN (BatchNormali (None, 56, 56, 144)  576         block_2_expand[0][0]             \n",
            "__________________________________________________________________________________________________\n",
            "block_2_expand_relu (ReLU)      (None, 56, 56, 144)  0           block_2_expand_BN[0][0]          \n",
            "__________________________________________________________________________________________________\n",
            "block_2_depthwise (DepthwiseCon (None, 56, 56, 144)  1296        block_2_expand_relu[0][0]        \n",
            "__________________________________________________________________________________________________\n",
            "block_2_depthwise_BN (BatchNorm (None, 56, 56, 144)  576         block_2_depthwise[0][0]          \n",
            "__________________________________________________________________________________________________\n",
            "block_2_depthwise_relu (ReLU)   (None, 56, 56, 144)  0           block_2_depthwise_BN[0][0]       \n",
            "__________________________________________________________________________________________________\n",
            "block_2_project (Conv2D)        (None, 56, 56, 24)   3456        block_2_depthwise_relu[0][0]     \n",
            "__________________________________________________________________________________________________\n",
            "block_2_project_BN (BatchNormal (None, 56, 56, 24)   96          block_2_project[0][0]            \n",
            "__________________________________________________________________________________________________\n",
            "block_2_add (Add)               (None, 56, 56, 24)   0           block_1_project_BN[0][0]         \n",
            "                                                                 block_2_project_BN[0][0]         \n",
            "__________________________________________________________________________________________________\n",
            "block_3_expand (Conv2D)         (None, 56, 56, 144)  3456        block_2_add[0][0]                \n",
            "__________________________________________________________________________________________________\n",
            "block_3_expand_BN (BatchNormali (None, 56, 56, 144)  576         block_3_expand[0][0]             \n",
            "__________________________________________________________________________________________________\n",
            "block_3_expand_relu (ReLU)      (None, 56, 56, 144)  0           block_3_expand_BN[0][0]          \n",
            "__________________________________________________________________________________________________\n",
            "block_3_pad (ZeroPadding2D)     (None, 57, 57, 144)  0           block_3_expand_relu[0][0]        \n",
            "__________________________________________________________________________________________________\n",
            "block_3_depthwise (DepthwiseCon (None, 28, 28, 144)  1296        block_3_pad[0][0]                \n",
            "__________________________________________________________________________________________________\n",
            "block_3_depthwise_BN (BatchNorm (None, 28, 28, 144)  576         block_3_depthwise[0][0]          \n",
            "__________________________________________________________________________________________________\n",
            "block_3_depthwise_relu (ReLU)   (None, 28, 28, 144)  0           block_3_depthwise_BN[0][0]       \n",
            "__________________________________________________________________________________________________\n",
            "block_3_project (Conv2D)        (None, 28, 28, 32)   4608        block_3_depthwise_relu[0][0]     \n",
            "__________________________________________________________________________________________________\n",
            "block_3_project_BN (BatchNormal (None, 28, 28, 32)   128         block_3_project[0][0]            \n",
            "__________________________________________________________________________________________________\n",
            "block_4_expand (Conv2D)         (None, 28, 28, 192)  6144        block_3_project_BN[0][0]         \n",
            "__________________________________________________________________________________________________\n",
            "block_4_expand_BN (BatchNormali (None, 28, 28, 192)  768         block_4_expand[0][0]             \n",
            "__________________________________________________________________________________________________\n",
            "block_4_expand_relu (ReLU)      (None, 28, 28, 192)  0           block_4_expand_BN[0][0]          \n",
            "__________________________________________________________________________________________________\n",
            "block_4_depthwise (DepthwiseCon (None, 28, 28, 192)  1728        block_4_expand_relu[0][0]        \n",
            "__________________________________________________________________________________________________\n",
            "block_4_depthwise_BN (BatchNorm (None, 28, 28, 192)  768         block_4_depthwise[0][0]          \n",
            "__________________________________________________________________________________________________\n",
            "block_4_depthwise_relu (ReLU)   (None, 28, 28, 192)  0           block_4_depthwise_BN[0][0]       \n",
            "__________________________________________________________________________________________________\n",
            "block_4_project (Conv2D)        (None, 28, 28, 32)   6144        block_4_depthwise_relu[0][0]     \n",
            "__________________________________________________________________________________________________\n",
            "block_4_project_BN (BatchNormal (None, 28, 28, 32)   128         block_4_project[0][0]            \n",
            "__________________________________________________________________________________________________\n",
            "block_4_add (Add)               (None, 28, 28, 32)   0           block_3_project_BN[0][0]         \n",
            "                                                                 block_4_project_BN[0][0]         \n",
            "__________________________________________________________________________________________________\n",
            "block_5_expand (Conv2D)         (None, 28, 28, 192)  6144        block_4_add[0][0]                \n",
            "__________________________________________________________________________________________________\n",
            "block_5_expand_BN (BatchNormali (None, 28, 28, 192)  768         block_5_expand[0][0]             \n",
            "__________________________________________________________________________________________________\n",
            "block_5_expand_relu (ReLU)      (None, 28, 28, 192)  0           block_5_expand_BN[0][0]          \n",
            "__________________________________________________________________________________________________\n",
            "block_5_depthwise (DepthwiseCon (None, 28, 28, 192)  1728        block_5_expand_relu[0][0]        \n",
            "__________________________________________________________________________________________________\n",
            "block_5_depthwise_BN (BatchNorm (None, 28, 28, 192)  768         block_5_depthwise[0][0]          \n",
            "__________________________________________________________________________________________________\n",
            "block_5_depthwise_relu (ReLU)   (None, 28, 28, 192)  0           block_5_depthwise_BN[0][0]       \n",
            "__________________________________________________________________________________________________\n",
            "block_5_project (Conv2D)        (None, 28, 28, 32)   6144        block_5_depthwise_relu[0][0]     \n",
            "__________________________________________________________________________________________________\n",
            "block_5_project_BN (BatchNormal (None, 28, 28, 32)   128         block_5_project[0][0]            \n",
            "__________________________________________________________________________________________________\n",
            "block_5_add (Add)               (None, 28, 28, 32)   0           block_4_add[0][0]                \n",
            "                                                                 block_5_project_BN[0][0]         \n",
            "__________________________________________________________________________________________________\n",
            "block_6_expand (Conv2D)         (None, 28, 28, 192)  6144        block_5_add[0][0]                \n",
            "__________________________________________________________________________________________________\n",
            "block_6_expand_BN (BatchNormali (None, 28, 28, 192)  768         block_6_expand[0][0]             \n",
            "__________________________________________________________________________________________________\n",
            "block_6_expand_relu (ReLU)      (None, 28, 28, 192)  0           block_6_expand_BN[0][0]          \n",
            "__________________________________________________________________________________________________\n",
            "block_6_pad (ZeroPadding2D)     (None, 29, 29, 192)  0           block_6_expand_relu[0][0]        \n",
            "__________________________________________________________________________________________________\n",
            "block_6_depthwise (DepthwiseCon (None, 14, 14, 192)  1728        block_6_pad[0][0]                \n",
            "__________________________________________________________________________________________________\n",
            "block_6_depthwise_BN (BatchNorm (None, 14, 14, 192)  768         block_6_depthwise[0][0]          \n",
            "__________________________________________________________________________________________________\n",
            "block_6_depthwise_relu (ReLU)   (None, 14, 14, 192)  0           block_6_depthwise_BN[0][0]       \n",
            "__________________________________________________________________________________________________\n",
            "block_6_project (Conv2D)        (None, 14, 14, 64)   12288       block_6_depthwise_relu[0][0]     \n",
            "__________________________________________________________________________________________________\n",
            "block_6_project_BN (BatchNormal (None, 14, 14, 64)   256         block_6_project[0][0]            \n",
            "__________________________________________________________________________________________________\n",
            "block_7_expand (Conv2D)         (None, 14, 14, 384)  24576       block_6_project_BN[0][0]         \n",
            "__________________________________________________________________________________________________\n",
            "block_7_expand_BN (BatchNormali (None, 14, 14, 384)  1536        block_7_expand[0][0]             \n",
            "__________________________________________________________________________________________________\n",
            "block_7_expand_relu (ReLU)      (None, 14, 14, 384)  0           block_7_expand_BN[0][0]          \n",
            "__________________________________________________________________________________________________\n",
            "block_7_depthwise (DepthwiseCon (None, 14, 14, 384)  3456        block_7_expand_relu[0][0]        \n",
            "__________________________________________________________________________________________________\n",
            "block_7_depthwise_BN (BatchNorm (None, 14, 14, 384)  1536        block_7_depthwise[0][0]          \n",
            "__________________________________________________________________________________________________\n",
            "block_7_depthwise_relu (ReLU)   (None, 14, 14, 384)  0           block_7_depthwise_BN[0][0]       \n",
            "__________________________________________________________________________________________________\n",
            "block_7_project (Conv2D)        (None, 14, 14, 64)   24576       block_7_depthwise_relu[0][0]     \n",
            "__________________________________________________________________________________________________\n",
            "block_7_project_BN (BatchNormal (None, 14, 14, 64)   256         block_7_project[0][0]            \n",
            "__________________________________________________________________________________________________\n",
            "block_7_add (Add)               (None, 14, 14, 64)   0           block_6_project_BN[0][0]         \n",
            "                                                                 block_7_project_BN[0][0]         \n",
            "__________________________________________________________________________________________________\n",
            "block_8_expand (Conv2D)         (None, 14, 14, 384)  24576       block_7_add[0][0]                \n",
            "__________________________________________________________________________________________________\n",
            "block_8_expand_BN (BatchNormali (None, 14, 14, 384)  1536        block_8_expand[0][0]             \n",
            "__________________________________________________________________________________________________\n",
            "block_8_expand_relu (ReLU)      (None, 14, 14, 384)  0           block_8_expand_BN[0][0]          \n",
            "__________________________________________________________________________________________________\n",
            "block_8_depthwise (DepthwiseCon (None, 14, 14, 384)  3456        block_8_expand_relu[0][0]        \n",
            "__________________________________________________________________________________________________\n",
            "block_8_depthwise_BN (BatchNorm (None, 14, 14, 384)  1536        block_8_depthwise[0][0]          \n",
            "__________________________________________________________________________________________________\n",
            "block_8_depthwise_relu (ReLU)   (None, 14, 14, 384)  0           block_8_depthwise_BN[0][0]       \n",
            "__________________________________________________________________________________________________\n",
            "block_8_project (Conv2D)        (None, 14, 14, 64)   24576       block_8_depthwise_relu[0][0]     \n",
            "__________________________________________________________________________________________________\n",
            "block_8_project_BN (BatchNormal (None, 14, 14, 64)   256         block_8_project[0][0]            \n",
            "__________________________________________________________________________________________________\n",
            "block_8_add (Add)               (None, 14, 14, 64)   0           block_7_add[0][0]                \n",
            "                                                                 block_8_project_BN[0][0]         \n",
            "__________________________________________________________________________________________________\n",
            "block_9_expand (Conv2D)         (None, 14, 14, 384)  24576       block_8_add[0][0]                \n",
            "__________________________________________________________________________________________________\n",
            "block_9_expand_BN (BatchNormali (None, 14, 14, 384)  1536        block_9_expand[0][0]             \n",
            "__________________________________________________________________________________________________\n",
            "block_9_expand_relu (ReLU)      (None, 14, 14, 384)  0           block_9_expand_BN[0][0]          \n",
            "__________________________________________________________________________________________________\n",
            "block_9_depthwise (DepthwiseCon (None, 14, 14, 384)  3456        block_9_expand_relu[0][0]        \n",
            "__________________________________________________________________________________________________\n",
            "block_9_depthwise_BN (BatchNorm (None, 14, 14, 384)  1536        block_9_depthwise[0][0]          \n",
            "__________________________________________________________________________________________________\n",
            "block_9_depthwise_relu (ReLU)   (None, 14, 14, 384)  0           block_9_depthwise_BN[0][0]       \n",
            "__________________________________________________________________________________________________\n",
            "block_9_project (Conv2D)        (None, 14, 14, 64)   24576       block_9_depthwise_relu[0][0]     \n",
            "__________________________________________________________________________________________________\n",
            "block_9_project_BN (BatchNormal (None, 14, 14, 64)   256         block_9_project[0][0]            \n",
            "__________________________________________________________________________________________________\n",
            "block_9_add (Add)               (None, 14, 14, 64)   0           block_8_add[0][0]                \n",
            "                                                                 block_9_project_BN[0][0]         \n",
            "__________________________________________________________________________________________________\n",
            "block_10_expand (Conv2D)        (None, 14, 14, 384)  24576       block_9_add[0][0]                \n",
            "__________________________________________________________________________________________________\n",
            "block_10_expand_BN (BatchNormal (None, 14, 14, 384)  1536        block_10_expand[0][0]            \n",
            "__________________________________________________________________________________________________\n",
            "block_10_expand_relu (ReLU)     (None, 14, 14, 384)  0           block_10_expand_BN[0][0]         \n",
            "__________________________________________________________________________________________________\n",
            "block_10_depthwise (DepthwiseCo (None, 14, 14, 384)  3456        block_10_expand_relu[0][0]       \n",
            "__________________________________________________________________________________________________\n",
            "block_10_depthwise_BN (BatchNor (None, 14, 14, 384)  1536        block_10_depthwise[0][0]         \n",
            "__________________________________________________________________________________________________\n",
            "block_10_depthwise_relu (ReLU)  (None, 14, 14, 384)  0           block_10_depthwise_BN[0][0]      \n",
            "__________________________________________________________________________________________________\n",
            "block_10_project (Conv2D)       (None, 14, 14, 96)   36864       block_10_depthwise_relu[0][0]    \n",
            "__________________________________________________________________________________________________\n",
            "block_10_project_BN (BatchNorma (None, 14, 14, 96)   384         block_10_project[0][0]           \n",
            "__________________________________________________________________________________________________\n",
            "block_11_expand (Conv2D)        (None, 14, 14, 576)  55296       block_10_project_BN[0][0]        \n",
            "__________________________________________________________________________________________________\n",
            "block_11_expand_BN (BatchNormal (None, 14, 14, 576)  2304        block_11_expand[0][0]            \n",
            "__________________________________________________________________________________________________\n",
            "block_11_expand_relu (ReLU)     (None, 14, 14, 576)  0           block_11_expand_BN[0][0]         \n",
            "__________________________________________________________________________________________________\n",
            "block_11_depthwise (DepthwiseCo (None, 14, 14, 576)  5184        block_11_expand_relu[0][0]       \n",
            "__________________________________________________________________________________________________\n",
            "block_11_depthwise_BN (BatchNor (None, 14, 14, 576)  2304        block_11_depthwise[0][0]         \n",
            "__________________________________________________________________________________________________\n",
            "block_11_depthwise_relu (ReLU)  (None, 14, 14, 576)  0           block_11_depthwise_BN[0][0]      \n",
            "__________________________________________________________________________________________________\n",
            "block_11_project (Conv2D)       (None, 14, 14, 96)   55296       block_11_depthwise_relu[0][0]    \n",
            "__________________________________________________________________________________________________\n",
            "block_11_project_BN (BatchNorma (None, 14, 14, 96)   384         block_11_project[0][0]           \n",
            "__________________________________________________________________________________________________\n",
            "block_11_add (Add)              (None, 14, 14, 96)   0           block_10_project_BN[0][0]        \n",
            "                                                                 block_11_project_BN[0][0]        \n",
            "__________________________________________________________________________________________________\n",
            "block_12_expand (Conv2D)        (None, 14, 14, 576)  55296       block_11_add[0][0]               \n",
            "__________________________________________________________________________________________________\n",
            "block_12_expand_BN (BatchNormal (None, 14, 14, 576)  2304        block_12_expand[0][0]            \n",
            "__________________________________________________________________________________________________\n",
            "block_12_expand_relu (ReLU)     (None, 14, 14, 576)  0           block_12_expand_BN[0][0]         \n",
            "__________________________________________________________________________________________________\n",
            "block_12_depthwise (DepthwiseCo (None, 14, 14, 576)  5184        block_12_expand_relu[0][0]       \n",
            "__________________________________________________________________________________________________\n",
            "block_12_depthwise_BN (BatchNor (None, 14, 14, 576)  2304        block_12_depthwise[0][0]         \n",
            "__________________________________________________________________________________________________\n",
            "block_12_depthwise_relu (ReLU)  (None, 14, 14, 576)  0           block_12_depthwise_BN[0][0]      \n",
            "__________________________________________________________________________________________________\n",
            "block_12_project (Conv2D)       (None, 14, 14, 96)   55296       block_12_depthwise_relu[0][0]    \n",
            "__________________________________________________________________________________________________\n",
            "block_12_project_BN (BatchNorma (None, 14, 14, 96)   384         block_12_project[0][0]           \n",
            "__________________________________________________________________________________________________\n",
            "block_12_add (Add)              (None, 14, 14, 96)   0           block_11_add[0][0]               \n",
            "                                                                 block_12_project_BN[0][0]        \n",
            "__________________________________________________________________________________________________\n",
            "block_13_expand (Conv2D)        (None, 14, 14, 576)  55296       block_12_add[0][0]               \n",
            "__________________________________________________________________________________________________\n",
            "block_13_expand_BN (BatchNormal (None, 14, 14, 576)  2304        block_13_expand[0][0]            \n",
            "__________________________________________________________________________________________________\n",
            "block_13_expand_relu (ReLU)     (None, 14, 14, 576)  0           block_13_expand_BN[0][0]         \n",
            "__________________________________________________________________________________________________\n",
            "block_13_pad (ZeroPadding2D)    (None, 15, 15, 576)  0           block_13_expand_relu[0][0]       \n",
            "__________________________________________________________________________________________________\n",
            "block_13_depthwise (DepthwiseCo (None, 7, 7, 576)    5184        block_13_pad[0][0]               \n",
            "__________________________________________________________________________________________________\n",
            "block_13_depthwise_BN (BatchNor (None, 7, 7, 576)    2304        block_13_depthwise[0][0]         \n",
            "__________________________________________________________________________________________________\n",
            "block_13_depthwise_relu (ReLU)  (None, 7, 7, 576)    0           block_13_depthwise_BN[0][0]      \n",
            "__________________________________________________________________________________________________\n",
            "block_13_project (Conv2D)       (None, 7, 7, 160)    92160       block_13_depthwise_relu[0][0]    \n",
            "__________________________________________________________________________________________________\n",
            "block_13_project_BN (BatchNorma (None, 7, 7, 160)    640         block_13_project[0][0]           \n",
            "__________________________________________________________________________________________________\n",
            "block_14_expand (Conv2D)        (None, 7, 7, 960)    153600      block_13_project_BN[0][0]        \n",
            "__________________________________________________________________________________________________\n",
            "block_14_expand_BN (BatchNormal (None, 7, 7, 960)    3840        block_14_expand[0][0]            \n",
            "__________________________________________________________________________________________________\n",
            "block_14_expand_relu (ReLU)     (None, 7, 7, 960)    0           block_14_expand_BN[0][0]         \n",
            "__________________________________________________________________________________________________\n",
            "block_14_depthwise (DepthwiseCo (None, 7, 7, 960)    8640        block_14_expand_relu[0][0]       \n",
            "__________________________________________________________________________________________________\n",
            "block_14_depthwise_BN (BatchNor (None, 7, 7, 960)    3840        block_14_depthwise[0][0]         \n",
            "__________________________________________________________________________________________________\n",
            "block_14_depthwise_relu (ReLU)  (None, 7, 7, 960)    0           block_14_depthwise_BN[0][0]      \n",
            "__________________________________________________________________________________________________\n",
            "block_14_project (Conv2D)       (None, 7, 7, 160)    153600      block_14_depthwise_relu[0][0]    \n",
            "__________________________________________________________________________________________________\n",
            "block_14_project_BN (BatchNorma (None, 7, 7, 160)    640         block_14_project[0][0]           \n",
            "__________________________________________________________________________________________________\n",
            "block_14_add (Add)              (None, 7, 7, 160)    0           block_13_project_BN[0][0]        \n",
            "                                                                 block_14_project_BN[0][0]        \n",
            "__________________________________________________________________________________________________\n",
            "block_15_expand (Conv2D)        (None, 7, 7, 960)    153600      block_14_add[0][0]               \n",
            "__________________________________________________________________________________________________\n",
            "block_15_expand_BN (BatchNormal (None, 7, 7, 960)    3840        block_15_expand[0][0]            \n",
            "__________________________________________________________________________________________________\n",
            "block_15_expand_relu (ReLU)     (None, 7, 7, 960)    0           block_15_expand_BN[0][0]         \n",
            "__________________________________________________________________________________________________\n",
            "block_15_depthwise (DepthwiseCo (None, 7, 7, 960)    8640        block_15_expand_relu[0][0]       \n",
            "__________________________________________________________________________________________________\n",
            "block_15_depthwise_BN (BatchNor (None, 7, 7, 960)    3840        block_15_depthwise[0][0]         \n",
            "__________________________________________________________________________________________________\n",
            "block_15_depthwise_relu (ReLU)  (None, 7, 7, 960)    0           block_15_depthwise_BN[0][0]      \n",
            "__________________________________________________________________________________________________\n",
            "block_15_project (Conv2D)       (None, 7, 7, 160)    153600      block_15_depthwise_relu[0][0]    \n",
            "__________________________________________________________________________________________________\n",
            "block_15_project_BN (BatchNorma (None, 7, 7, 160)    640         block_15_project[0][0]           \n",
            "__________________________________________________________________________________________________\n",
            "block_15_add (Add)              (None, 7, 7, 160)    0           block_14_add[0][0]               \n",
            "                                                                 block_15_project_BN[0][0]        \n",
            "__________________________________________________________________________________________________\n",
            "block_16_expand (Conv2D)        (None, 7, 7, 960)    153600      block_15_add[0][0]               \n",
            "__________________________________________________________________________________________________\n",
            "block_16_expand_BN (BatchNormal (None, 7, 7, 960)    3840        block_16_expand[0][0]            \n",
            "__________________________________________________________________________________________________\n",
            "block_16_expand_relu (ReLU)     (None, 7, 7, 960)    0           block_16_expand_BN[0][0]         \n",
            "__________________________________________________________________________________________________\n",
            "block_16_depthwise (DepthwiseCo (None, 7, 7, 960)    8640        block_16_expand_relu[0][0]       \n",
            "__________________________________________________________________________________________________\n",
            "block_16_depthwise_BN (BatchNor (None, 7, 7, 960)    3840        block_16_depthwise[0][0]         \n",
            "__________________________________________________________________________________________________\n",
            "block_16_depthwise_relu (ReLU)  (None, 7, 7, 960)    0           block_16_depthwise_BN[0][0]      \n",
            "__________________________________________________________________________________________________\n",
            "block_16_project (Conv2D)       (None, 7, 7, 320)    307200      block_16_depthwise_relu[0][0]    \n",
            "__________________________________________________________________________________________________\n",
            "block_16_project_BN (BatchNorma (None, 7, 7, 320)    1280        block_16_project[0][0]           \n",
            "__________________________________________________________________________________________________\n",
            "Conv_1 (Conv2D)                 (None, 7, 7, 1280)   409600      block_16_project_BN[0][0]        \n",
            "__________________________________________________________________________________________________\n",
            "Conv_1_bn (BatchNormalization)  (None, 7, 7, 1280)   5120        Conv_1[0][0]                     \n",
            "__________________________________________________________________________________________________\n",
            "out_relu (ReLU)                 (None, 7, 7, 1280)   0           Conv_1_bn[0][0]                  \n",
            "__________________________________________________________________________________________________\n",
            "average_pooling2d_1 (AveragePoo (None, 1, 1, 1280)   0           out_relu[0][0]                   \n",
            "__________________________________________________________________________________________________\n",
            "flatten (Flatten)               (None, 1280)         0           average_pooling2d_1[0][0]        \n",
            "__________________________________________________________________________________________________\n",
            "dense_2 (Dense)                 (None, 128)          163968      flatten[0][0]                    \n",
            "__________________________________________________________________________________________________\n",
            "dropout_1 (Dropout)             (None, 128)          0           dense_2[0][0]                    \n",
            "__________________________________________________________________________________________________\n",
            "dense_3 (Dense)                 (None, 2)            258         dropout_1[0][0]                  \n",
            "==================================================================================================\n",
            "Total params: 2,422,210\n",
            "Trainable params: 164,226\n",
            "Non-trainable params: 2,257,984\n",
            "__________________________________________________________________________________________________\n"
          ],
          "name": "stdout"
        }
      ]
    },
    {
      "cell_type": "code",
      "metadata": {
        "id": "DgR-6HcKXsTy",
        "colab_type": "code",
        "colab": {}
      },
      "source": [
        "INIT_LR = 1e-4\n",
        "EPOCHS = 20\n",
        "BS = 32\n",
        "\n",
        "opt = Adam(lr=INIT_LR, decay=INIT_LR / EPOCHS)"
      ],
      "execution_count": 0,
      "outputs": []
    },
    {
      "cell_type": "code",
      "metadata": {
        "id": "H5BXqnX3X8cm",
        "colab_type": "code",
        "colab": {}
      },
      "source": [
        "model.compile(loss='binary_crossentropy', optimizer=opt , metrics=[\"accuracy\"])"
      ],
      "execution_count": 0,
      "outputs": []
    },
    {
      "cell_type": "code",
      "metadata": {
        "id": "GqcZXBsQYMV-",
        "colab_type": "code",
        "outputId": "a4d19311-0445-4205-b861-e4a78e559044",
        "colab": {
          "base_uri": "https://localhost:8080/",
          "height": 717
        }
      },
      "source": [
        "H = model.fit(aug.flow(trainX,trainY,batch_size=BS) , epochs=EPOCHS ,\n",
        "              steps_per_epoch=len(trainX) // BS,\n",
        "              validation_data=(testX,testY),\n",
        "              validation_steps=len(testX) // BS)"
      ],
      "execution_count": 64,
      "outputs": [
        {
          "output_type": "stream",
          "text": [
            "Epoch 1/20\n",
            "31/31 [==============================] - 10s 322ms/step - loss: 0.5985 - accuracy: 0.7025 - val_loss: 0.1704 - val_accuracy: 0.9840\n",
            "Epoch 2/20\n",
            "31/31 [==============================] - 9s 294ms/step - loss: 0.2114 - accuracy: 0.9298 - val_loss: 0.0704 - val_accuracy: 1.0000\n",
            "Epoch 3/20\n",
            "31/31 [==============================] - 9s 295ms/step - loss: 0.1327 - accuracy: 0.9556 - val_loss: 0.0419 - val_accuracy: 1.0000\n",
            "Epoch 4/20\n",
            "31/31 [==============================] - 9s 295ms/step - loss: 0.0956 - accuracy: 0.9669 - val_loss: 0.0301 - val_accuracy: 1.0000\n",
            "Epoch 5/20\n",
            "31/31 [==============================] - 9s 295ms/step - loss: 0.0773 - accuracy: 0.9742 - val_loss: 0.0224 - val_accuracy: 1.0000\n",
            "Epoch 6/20\n",
            "31/31 [==============================] - 9s 293ms/step - loss: 0.0597 - accuracy: 0.9783 - val_loss: 0.0187 - val_accuracy: 1.0000\n",
            "Epoch 7/20\n",
            "31/31 [==============================] - 9s 295ms/step - loss: 0.0473 - accuracy: 0.9855 - val_loss: 0.0160 - val_accuracy: 1.0000\n",
            "Epoch 8/20\n",
            "31/31 [==============================] - 9s 296ms/step - loss: 0.0548 - accuracy: 0.9824 - val_loss: 0.0142 - val_accuracy: 1.0000\n",
            "Epoch 9/20\n",
            "31/31 [==============================] - 9s 296ms/step - loss: 0.0421 - accuracy: 0.9876 - val_loss: 0.0117 - val_accuracy: 1.0000\n",
            "Epoch 10/20\n",
            "31/31 [==============================] - 9s 294ms/step - loss: 0.0398 - accuracy: 0.9835 - val_loss: 0.0106 - val_accuracy: 1.0000\n",
            "Epoch 11/20\n",
            "31/31 [==============================] - 9s 294ms/step - loss: 0.0376 - accuracy: 0.9897 - val_loss: 0.0095 - val_accuracy: 1.0000\n",
            "Epoch 12/20\n",
            "31/31 [==============================] - 9s 294ms/step - loss: 0.0284 - accuracy: 0.9917 - val_loss: 0.0091 - val_accuracy: 1.0000\n",
            "Epoch 13/20\n",
            "31/31 [==============================] - 9s 294ms/step - loss: 0.0296 - accuracy: 0.9917 - val_loss: 0.0078 - val_accuracy: 1.0000\n",
            "Epoch 14/20\n",
            "31/31 [==============================] - 9s 297ms/step - loss: 0.0224 - accuracy: 0.9948 - val_loss: 0.0072 - val_accuracy: 1.0000\n",
            "Epoch 15/20\n",
            "31/31 [==============================] - 9s 294ms/step - loss: 0.0217 - accuracy: 0.9959 - val_loss: 0.0068 - val_accuracy: 1.0000\n",
            "Epoch 16/20\n",
            "31/31 [==============================] - 9s 297ms/step - loss: 0.0205 - accuracy: 0.9959 - val_loss: 0.0060 - val_accuracy: 1.0000\n",
            "Epoch 17/20\n",
            "31/31 [==============================] - 9s 299ms/step - loss: 0.0218 - accuracy: 0.9928 - val_loss: 0.0059 - val_accuracy: 1.0000\n",
            "Epoch 18/20\n",
            "31/31 [==============================] - 9s 294ms/step - loss: 0.0214 - accuracy: 0.9928 - val_loss: 0.0056 - val_accuracy: 1.0000\n",
            "Epoch 19/20\n",
            "31/31 [==============================] - 9s 295ms/step - loss: 0.0308 - accuracy: 0.9897 - val_loss: 0.0054 - val_accuracy: 1.0000\n",
            "Epoch 20/20\n",
            "31/31 [==============================] - 9s 298ms/step - loss: 0.0214 - accuracy: 0.9928 - val_loss: 0.0052 - val_accuracy: 1.0000\n"
          ],
          "name": "stdout"
        }
      ]
    },
    {
      "cell_type": "code",
      "metadata": {
        "id": "D61NzEOPdaUI",
        "colab_type": "code",
        "outputId": "b4b18358-89e9-4827-d2b9-414f25a69a22",
        "colab": {
          "base_uri": "https://localhost:8080/",
          "height": 574
        }
      },
      "source": [
        "# plot the training loss and accuracy\n",
        "N = np.arange(0, EPOCHS)\n",
        "plt.style.use(\"ggplot\")\n",
        "plt.figure(figsize=(12,9))\n",
        "plt.plot(N, H.history[\"loss\"], label=\"train_loss\")\n",
        "plt.plot(N, H.history[\"val_loss\"], label=\"val_loss\")\n",
        "plt.plot(N, H.history[\"accuracy\"], label=\"train_acc\")\n",
        "plt.plot(N, H.history[\"val_accuracy\"], label=\"val_acc\")\n",
        "plt.title(\"Training Loss and Accuracy (CNN for Mask detection)\")\n",
        "plt.xlabel(\"Epoch #\")\n",
        "plt.ylabel(\"Loss/Accuracy\")\n",
        "plt.legend()\n",
        "plt.show()"
      ],
      "execution_count": 65,
      "outputs": [
        {
          "output_type": "display_data",
          "data": {
            "image/png": "[encoded data removed]",
            "text/plain": [
              "<Figure size 864x648 with 1 Axes>"
            ]
          },
          "metadata": {
            "tags": []
          }
        }
      ]
    },
    {
      "cell_type": "code",
      "metadata": {
        "id": "M29WrsB7d-2Q",
        "colab_type": "code",
        "outputId": "bb0857c9-5764-4a66-947d-8b71b1e5f7ea",
        "colab": {
          "base_uri": "https://localhost:8080/",
          "height": 1000
        }
      },
      "source": [
        "preds = model.predict(test_images)\n",
        "preds"
      ],
      "execution_count": 66,
      "outputs": [
        {
          "output_type": "execute_result",
          "data": {
            "text/plain": [
              "array([[2.44267489e-04, 9.99755681e-01],\n",
              "       [5.02935378e-04, 9.99497056e-01],\n",
              "       [3.50926362e-04, 9.99649048e-01],\n",
              "       [8.06880370e-03, 9.91931140e-01],\n",
              "       [1.78540926e-04, 9.99821484e-01],\n",
              "       [3.33283504e-04, 9.99666691e-01],\n",
              "       [8.18644010e-04, 9.99181330e-01],\n",
              "       [3.16585356e-04, 9.99683380e-01],\n",
              "       [6.11547075e-05, 9.99938846e-01],\n",
              "       [4.10221575e-04, 9.99589741e-01],\n",
              "       [1.83931983e-03, 9.98160660e-01],\n",
              "       [5.79921994e-04, 9.99420047e-01],\n",
              "       [1.17742402e-05, 9.99988198e-01],\n",
              "       [9.49234964e-05, 9.99905109e-01],\n",
              "       [1.49376029e-02, 9.85062361e-01],\n",
              "       [9.86584273e-05, 9.99901295e-01],\n",
              "       [3.57915938e-04, 9.99642134e-01],\n",
              "       [3.70655653e-06, 9.99996305e-01],\n",
              "       [9.94062982e-04, 9.99005973e-01],\n",
              "       [7.99582340e-03, 9.92004216e-01],\n",
              "       [7.53365806e-04, 9.99246716e-01],\n",
              "       [8.48526106e-05, 9.99915123e-01],\n",
              "       [5.34179446e-04, 9.99465883e-01],\n",
              "       [4.09717113e-03, 9.95902836e-01],\n",
              "       [2.34401406e-04, 9.99765575e-01],\n",
              "       [3.20197199e-04, 9.99679804e-01],\n",
              "       [2.53395177e-04, 9.99746621e-01],\n",
              "       [1.52637123e-03, 9.98473585e-01],\n",
              "       [3.86100059e-04, 9.99613941e-01],\n",
              "       [5.61627671e-02, 9.43837225e-01],\n",
              "       [1.70146686e-05, 9.99982953e-01],\n",
              "       [1.52393570e-03, 9.98476088e-01],\n",
              "       [1.87485639e-05, 9.99981284e-01],\n",
              "       [1.61243515e-05, 9.99983907e-01],\n",
              "       [1.13074573e-04, 9.99886870e-01],\n",
              "       [1.23609847e-04, 9.99876380e-01],\n",
              "       [3.07904361e-06, 9.99996901e-01],\n",
              "       [1.52728564e-04, 9.99847293e-01],\n",
              "       [4.19120588e-05, 9.99958038e-01],\n",
              "       [7.38254676e-05, 9.99926209e-01],\n",
              "       [6.08931805e-05, 9.99939084e-01],\n",
              "       [1.38405914e-04, 9.99861598e-01],\n",
              "       [1.04914179e-04, 9.99895096e-01],\n",
              "       [2.75285220e-05, 9.99972463e-01],\n",
              "       [1.08612760e-04, 9.99891400e-01],\n",
              "       [2.07843386e-05, 9.99979258e-01],\n",
              "       [1.15014240e-02, 9.88498509e-01],\n",
              "       [1.26043812e-03, 9.98739541e-01],\n",
              "       [2.04855838e-04, 9.99795139e-01],\n",
              "       [2.88804640e-05, 9.99971151e-01],\n",
              "       [1.48298659e-05, 9.99985218e-01],\n",
              "       [2.76608113e-03, 9.97233927e-01],\n",
              "       [1.09923504e-01, 8.90076518e-01],\n",
              "       [1.85633631e-04, 9.99814451e-01],\n",
              "       [5.84671795e-01, 4.15328205e-01],\n",
              "       [2.04655323e-02, 9.79534507e-01],\n",
              "       [7.93073559e-06, 9.99992013e-01],\n",
              "       [8.35284445e-05, 9.99916434e-01],\n",
              "       [7.05611019e-04, 9.99294400e-01],\n",
              "       [3.47131827e-05, 9.99965310e-01],\n",
              "       [2.14022584e-04, 9.99785960e-01],\n",
              "       [7.79163383e-05, 9.99922037e-01],\n",
              "       [4.51600354e-05, 9.99954820e-01],\n",
              "       [6.89145003e-04, 9.99310851e-01],\n",
              "       [4.22994106e-07, 9.99999523e-01],\n",
              "       [3.60925857e-04, 9.99639034e-01],\n",
              "       [8.20923969e-03, 9.91790771e-01],\n",
              "       [7.15543356e-05, 9.99928474e-01],\n",
              "       [1.97667487e-05, 9.99980211e-01],\n",
              "       [8.27343669e-04, 9.99172628e-01],\n",
              "       [1.11377150e-04, 9.99888659e-01],\n",
              "       [3.90778034e-04, 9.99609292e-01],\n",
              "       [1.36451272e-04, 9.99863505e-01],\n",
              "       [1.77777489e-04, 9.99822199e-01],\n",
              "       [2.09914317e-04, 9.99790132e-01],\n",
              "       [3.65822816e-05, 9.99963403e-01],\n",
              "       [2.94882077e-04, 9.99705136e-01],\n",
              "       [3.91570036e-04, 9.99608457e-01],\n",
              "       [4.24452417e-04, 9.99575555e-01],\n",
              "       [2.26717430e-06, 9.99997735e-01],\n",
              "       [3.17135896e-03, 9.96828616e-01],\n",
              "       [9.33270348e-05, 9.99906659e-01],\n",
              "       [2.42837981e-04, 9.99757111e-01],\n",
              "       [7.92021383e-05, 9.99920845e-01],\n",
              "       [3.78163462e-03, 9.96218383e-01],\n",
              "       [2.46632990e-04, 9.99753416e-01],\n",
              "       [7.91166822e-05, 9.99920845e-01],\n",
              "       [2.97013699e-04, 9.99702990e-01],\n",
              "       [4.62944561e-04, 9.99537110e-01],\n",
              "       [5.79306914e-04, 9.99420762e-01],\n",
              "       [6.15481229e-04, 9.99384522e-01],\n",
              "       [4.23486490e-04, 9.99576509e-01],\n",
              "       [6.20335049e-04, 9.99379635e-01],\n",
              "       [1.60033931e-04, 9.99839902e-01],\n",
              "       [2.96227256e-04, 9.99703705e-01],\n",
              "       [9.32484036e-05, 9.99906778e-01],\n",
              "       [6.98379954e-05, 9.99930143e-01],\n",
              "       [9.99912977e-01, 8.70326548e-05],\n",
              "       [9.99725640e-01, 2.74374645e-04],\n",
              "       [9.99862432e-01, 1.37544950e-04],\n",
              "       [9.99572933e-01, 4.27069288e-04],\n",
              "       [9.99813616e-01, 1.86427758e-04],\n",
              "       [9.95071650e-01, 4.92834346e-03],\n",
              "       [9.99504209e-01, 4.95830318e-04],\n",
              "       [9.99869108e-01, 1.30914777e-04],\n",
              "       [9.96818185e-01, 3.18181072e-03],\n",
              "       [9.98898387e-01, 1.10153644e-03],\n",
              "       [9.99574006e-01, 4.25970822e-04],\n",
              "       [9.99810278e-01, 1.89731174e-04],\n",
              "       [9.99867678e-01, 1.32271714e-04],\n",
              "       [9.98068273e-01, 1.93168514e-03],\n",
              "       [9.99731481e-01, 2.68518692e-04],\n",
              "       [9.99918818e-01, 8.11255231e-05],\n",
              "       [9.99830246e-01, 1.69699808e-04],\n",
              "       [9.99964714e-01, 3.52387724e-05],\n",
              "       [9.99697208e-01, 3.02817760e-04],\n",
              "       [9.99686003e-01, 3.13995202e-04],\n",
              "       [9.99667764e-01, 3.32285737e-04],\n",
              "       [9.99949694e-01, 5.03534138e-05],\n",
              "       [9.32815492e-01, 6.71845526e-02],\n",
              "       [9.99968529e-01, 3.14422141e-05],\n",
              "       [9.99855518e-01, 1.44503967e-04],\n",
              "       [9.99976039e-01, 2.39873389e-05],\n",
              "       [9.82344866e-01, 1.76551789e-02],\n",
              "       [9.99382615e-01, 6.17371290e-04],\n",
              "       [9.99866605e-01, 1.33361362e-04],\n",
              "       [9.99820650e-01, 1.79410068e-04],\n",
              "       [9.99809206e-01, 1.90787498e-04],\n",
              "       [9.99919415e-01, 8.06070966e-05],\n",
              "       [9.99762356e-01, 2.37627552e-04],\n",
              "       [6.83061659e-01, 3.16938370e-01],\n",
              "       [9.99955297e-01, 4.47280509e-05],\n",
              "       [9.99895930e-01, 1.04007515e-04],\n",
              "       [9.99991298e-01, 8.74427678e-06],\n",
              "       [9.99869585e-01, 1.30430330e-04],\n",
              "       [9.99243617e-01, 7.56363967e-04],\n",
              "       [9.99936700e-01, 6.32490992e-05],\n",
              "       [9.99073029e-01, 9.26976325e-04],\n",
              "       [9.99806464e-01, 1.93501139e-04],\n",
              "       [9.99812782e-01, 1.87253492e-04],\n",
              "       [9.99775231e-01, 2.24739691e-04],\n",
              "       [9.99869347e-01, 1.30597691e-04],\n",
              "       [9.96241689e-01, 3.75831896e-03],\n",
              "       [9.99330163e-01, 6.69843401e-04],\n",
              "       [9.99421000e-01, 5.79001848e-04],\n",
              "       [9.99803245e-01, 1.96736728e-04],\n",
              "       [9.99744475e-01, 2.55510211e-04],\n",
              "       [9.96384025e-01, 3.61596351e-03],\n",
              "       [9.98034418e-01, 1.96558470e-03],\n",
              "       [9.98376489e-01, 1.62348314e-03],\n",
              "       [9.97467995e-01, 2.53197807e-03],\n",
              "       [9.99367654e-01, 6.32409297e-04],\n",
              "       [9.98283386e-01, 1.71658664e-03],\n",
              "       [9.99829531e-01, 1.70415879e-04],\n",
              "       [9.99965549e-01, 3.44079854e-05],\n",
              "       [9.97338474e-01, 2.66146031e-03],\n",
              "       [9.99953628e-01, 4.63863762e-05],\n",
              "       [9.99940515e-01, 5.95020283e-05],\n",
              "       [9.99554098e-01, 4.45902668e-04],\n",
              "       [9.99997735e-01, 2.25429221e-06],\n",
              "       [9.99649644e-01, 3.50365444e-04],\n",
              "       [9.99938250e-01, 6.16882317e-05],\n",
              "       [9.99842167e-01, 1.57787639e-04],\n",
              "       [9.99285996e-01, 7.14007241e-04],\n",
              "       [9.81410921e-01, 1.85890570e-02],\n",
              "       [9.99967813e-01, 3.21559455e-05],\n",
              "       [9.63521957e-01, 3.64780240e-02],\n",
              "       [9.99971032e-01, 2.90164553e-05],\n",
              "       [9.97958302e-01, 2.04174826e-03],\n",
              "       [9.98574972e-01, 1.42506731e-03],\n",
              "       [9.99718726e-01, 2.81280576e-04],\n",
              "       [9.99982476e-01, 1.75644109e-05],\n",
              "       [9.99841213e-01, 1.58777548e-04],\n",
              "       [9.98999059e-01, 1.00095640e-03],\n",
              "       [9.99973059e-01, 2.69379416e-05],\n",
              "       [9.99941230e-01, 5.88124967e-05],\n",
              "       [9.97511268e-01, 2.48872465e-03],\n",
              "       [9.99555171e-01, 4.44858277e-04],\n",
              "       [9.99779046e-01, 2.20947768e-04],\n",
              "       [9.99878883e-01, 1.21159683e-04],\n",
              "       [9.99942660e-01, 5.73003708e-05],\n",
              "       [9.99847054e-01, 1.52948924e-04],\n",
              "       [9.99124467e-01, 8.75579077e-04],\n",
              "       [9.99270499e-01, 7.29487278e-04],\n",
              "       [9.99588549e-01, 4.11513931e-04],\n",
              "       [9.99991655e-01, 8.38031065e-06],\n",
              "       [9.99767005e-01, 2.32957856e-04],\n",
              "       [9.98255432e-01, 1.74455834e-03],\n",
              "       [9.99965668e-01, 3.43155480e-05],\n",
              "       [9.99751985e-01, 2.47973425e-04],\n",
              "       [9.99897838e-01, 1.02121194e-04],\n",
              "       [9.99905229e-01, 9.47213048e-05],\n",
              "       [9.99985456e-01, 1.45251124e-05],\n",
              "       [8.53807390e-01, 1.46192625e-01]], dtype=float32)"
            ]
          },
          "metadata": {
            "tags": []
          },
          "execution_count": 66
        }
      ]
    },
    {
      "cell_type": "code",
      "metadata": {
        "id": "slod-sRL0WP-",
        "colab_type": "code",
        "colab": {}
      },
      "source": [
        "#useful indexes -> 93,106,9,89,123,151,53,84\n",
        "# check index -> 85 , 54 ,53"
      ],
      "execution_count": 0,
      "outputs": []
    },
    {
      "cell_type": "code",
      "metadata": {
        "id": "4pq9N_s1qzrq",
        "colab_type": "code",
        "colab": {}
      },
      "source": [
        "conf = 0.00\n",
        "no_conf = 1.99"
      ],
      "execution_count": 0,
      "outputs": []
    },
    {
      "cell_type": "code",
      "metadata": {
        "id": "GKCRSwU70Dyd",
        "colab_type": "code",
        "colab": {}
      },
      "source": [
        "from tensorflow.keras.applications.mobilenet_v2 import preprocess_input\n",
        "from tensorflow.keras.preprocessing.image import img_to_array"
      ],
      "execution_count": 0,
      "outputs": []
    },
    {
      "cell_type": "code",
      "metadata": {
        "id": "4ihy37NX1HIU",
        "colab_type": "code",
        "colab": {}
      },
      "source": [
        "net = cv2.dnn.readNetFromCaffe(filepath_prototxt ,filepath_model)"
      ],
      "execution_count": 0,
      "outputs": []
    },
    {
      "cell_type": "code",
      "metadata": {
        "id": "1q0x_nIYmcmn",
        "colab_type": "code",
        "outputId": "1ae17baf-30f2-4506-bb22-d5155ed4c94c",
        "colab": {
          "base_uri": "https://localhost:8080/",
          "height": 252
        }
      },
      "source": [
        "vs = cv2.VideoCapture('/content/People wearing masks in public - YouTube (360p).mp4')\n",
        "writer = None\n",
        "(W, H) = (None, None)\n",
        "\n",
        "while True:\n",
        "  (grabbed, frame) = vs.read()\n",
        "  blob = cv2.dnn.blobFromImage(cv2.resize(frame,(300,300)), 1.0 ,(300,300) ,(104.0, 177.0, 123.0))\n",
        "  net.setInput(blob)\n",
        "  detections = net.forward()\n",
        "  \n",
        "  if not grabbed:\n",
        "    break\n",
        "\n",
        "  if W is None or H is None:\n",
        "    (H,W) = frame.shape[:2]\n",
        "\n",
        "  output = frame.copy()\n",
        "\n",
        "  for i2 in range(0,detections.shape[2]):\n",
        "    confidence = detections[0,0,i2,2]\n",
        "\n",
        "    if (confidence > conf ) and (confidence < no_conf):\n",
        "      box = detections[0,0,i2,3:7]*np.array([W,H,W,H])\n",
        "      (startX , startY , endX , endY) = box.astype(\"int\")\n",
        "      (startX,startY) = (max(0,startX),max(0,startY))\n",
        "      (endX,endY) = min(W-1,endX) , min(H-1,endY)\n",
        "      \n",
        "      face = frame[startY:endY,startX:endX]\n",
        "      face = cv2.cvtColor(face , cv2.COLOR_BGR2RGB)\n",
        "      face = cv2.resize(face , (224,224))\n",
        "      face = img_to_array(face)\n",
        "      face = preprocess_input(face)\n",
        "      face = np.expand_dims(face,axis=0)\n",
        "\n",
        "      (mask,withoutMask) = model.predict(face)[0]\n",
        "\n",
        "      if mask < withoutMask:\n",
        "        label=\"NoMask\"\n",
        "        color=(0,0,255)\n",
        "\n",
        "      else:\n",
        "        label=\"Mask\"\n",
        "        color=(0,255,0)\n",
        "\n",
        "      label = \"{}: {:.2f}%\".format(label,max(mask,withoutMask)*100)\n",
        "\n",
        "      cv2.rectangle(output , (startX,startY), (endX,endY), color , 2)\n",
        "      cv2.putText(output , label , (startX , startY) , cv2.FONT_HERSHEY_SIMPLEX , 0.45 , (255,255,255), 2)\n",
        "\n",
        "  if writer is None:\n",
        "    fourcc = cv2.VideoWriter_fourcc(*\"MJPG\")\n",
        "    writer = cv2.VideoWriter('/content/mask_output3.avi',fourcc,30,(W,H),True)\n",
        "\n",
        "  writer.write(output)\n",
        "\n",
        "  cv2_imshow(output)\n",
        "  key = cv2.waitKey(1) & 0xFF\n",
        "\n",
        "  if key == ord(\"q\"):\n",
        "    break\n",
        "\n",
        "writer.release()\n",
        "vs.release()"
      ],
      "execution_count": 84,
      "outputs": [
        {
          "output_type": "error",
          "ename": "error",
          "evalue": "ignored",
          "traceback": [
            "\u001b[0;31m---------------------------------------------------------------------------\u001b[0m",
            "\u001b[0;31merror\u001b[0m                                     Traceback (most recent call last)",
            "\u001b[0;32m<ipython-input-84-e248a5e84e21>\u001b[0m in \u001b[0;36m<module>\u001b[0;34m()\u001b[0m\n\u001b[1;32m     27\u001b[0m \u001b[0;34m\u001b[0m\u001b[0m\n\u001b[1;32m     28\u001b[0m       \u001b[0mface\u001b[0m \u001b[0;34m=\u001b[0m \u001b[0mframe\u001b[0m\u001b[0;34m[\u001b[0m\u001b[0mstartY\u001b[0m\u001b[0;34m:\u001b[0m\u001b[0mendY\u001b[0m\u001b[0;34m,\u001b[0m\u001b[0mstartX\u001b[0m\u001b[0;34m:\u001b[0m\u001b[0mendX\u001b[0m\u001b[0;34m]\u001b[0m\u001b[0;34m\u001b[0m\u001b[0;34m\u001b[0m\u001b[0m\n\u001b[0;32m---> 29\u001b[0;31m       \u001b[0mface\u001b[0m \u001b[0;34m=\u001b[0m \u001b[0mcv2\u001b[0m\u001b[0;34m.\u001b[0m\u001b[0mcvtColor\u001b[0m\u001b[0;34m(\u001b[0m\u001b[0mface\u001b[0m \u001b[0;34m,\u001b[0m \u001b[0mcv2\u001b[0m\u001b[0;34m.\u001b[0m\u001b[0mCOLOR_BGR2RGB\u001b[0m\u001b[0;34m)\u001b[0m\u001b[0;34m\u001b[0m\u001b[0;34m\u001b[0m\u001b[0m\n\u001b[0m\u001b[1;32m     30\u001b[0m       \u001b[0mface\u001b[0m \u001b[0;34m=\u001b[0m \u001b[0mcv2\u001b[0m\u001b[0;34m.\u001b[0m\u001b[0mresize\u001b[0m\u001b[0;34m(\u001b[0m\u001b[0mface\u001b[0m \u001b[0;34m,\u001b[0m \u001b[0;34m(\u001b[0m\u001b[0;36m224\u001b[0m\u001b[0;34m,\u001b[0m\u001b[0;36m224\u001b[0m\u001b[0;34m)\u001b[0m\u001b[0;34m)\u001b[0m\u001b[0;34m\u001b[0m\u001b[0;34m\u001b[0m\u001b[0m\n\u001b[1;32m     31\u001b[0m       \u001b[0mface\u001b[0m \u001b[0;34m=\u001b[0m \u001b[0mimg_to_array\u001b[0m\u001b[0;34m(\u001b[0m\u001b[0mface\u001b[0m\u001b[0;34m)\u001b[0m\u001b[0;34m\u001b[0m\u001b[0;34m\u001b[0m\u001b[0m\n",
            "\u001b[0;31merror\u001b[0m: OpenCV(4.1.2) /io/opencv/modules/imgproc/src/color.cpp:182: error: (-215:Assertion failed) !_src.empty() in function 'cvtColor'\n"
          ]
        }
      ]
    },
    {
      "cell_type": "code",
      "metadata": {
        "id": "dG_573oHmct5",
        "colab_type": "code",
        "colab": {}
      },
      "source": [
        ""
      ],
      "execution_count": 0,
      "outputs": []
    }
  ]
}